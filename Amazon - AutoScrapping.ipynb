{
 "cells": [
  {
   "cell_type": "markdown",
   "metadata": {},
   "source": [
    "# Automating WEB Scraping Amazon E-Commerce https://www.amazon.in/"
   ]
  },
  {
   "cell_type": "markdown",
   "metadata": {},
   "source": [
    "### Installing AutoScraper:"
   ]
  },
  {
   "cell_type": "code",
   "execution_count": 1,
   "metadata": {},
   "outputs": [
    {
     "name": "stderr",
     "output_type": "stream",
     "text": [
      "WARNING: You are using pip version 20.1.1; however, version 22.0.3 is available.\n",
      "You should consider upgrading via the 'c:\\users\\singh\\appdata\\local\\programs\\python\\python37-32\\python.exe -m pip install --upgrade pip' command.\n"
     ]
    }
   ],
   "source": [
    "!pip install autoscraper --upgrade --quiet"
   ]
  },
  {
   "cell_type": "markdown",
   "metadata": {},
   "source": [
    "### Importing AutoScraper:"
   ]
  },
  {
   "cell_type": "code",
   "execution_count": 2,
   "metadata": {},
   "outputs": [],
   "source": [
    "from autoscraper import AutoScraper"
   ]
  },
  {
   "cell_type": "markdown",
   "metadata": {},
   "source": [
    "### Loading Amazon Website specific to HEADPHONES:"
   ]
  },
  {
   "cell_type": "code",
   "execution_count": 9,
   "metadata": {},
   "outputs": [],
   "source": [
    "amazon_url = \"https://www.amazon.in/s?k=headphones\"\n",
    "wanted_list = [\"₹699\", \"boAt Bassheads 900 Wired On Ear Headphones with Mic (Carbon Black)\"]"
   ]
  },
  {
   "cell_type": "markdown",
   "metadata": {},
   "source": [
    "### Using AutoScraper and sacing data in RESULT variable:"
   ]
  },
  {
   "cell_type": "code",
   "execution_count": 20,
   "metadata": {},
   "outputs": [
    {
     "name": "stdout",
     "output_type": "stream",
     "text": [
      "['₹1,399', '₹3,990', '₹699', '₹2,490', '₹999', '₹2,499', '₹1,499', '₹199', '₹899', '₹1,899', '₹4,999', '₹599', '₹1,800', '₹1,390', '₹1,799', '₹299', '₹799', '₹1,999', '₹2,599', '₹4,499', '₹399', 'Best sellerin On-Ear Headphones', 'boAt Rockerz 450 Bluetooth Wireless On Ear Headphone with Mic (Luscious Black)', 'Amazon\\'s Choicefor \"headphones\"', 'boAt Bassheads 900 Wired On Ear Headphones with Mic (Carbon Black)', 'boAt Rockerz 370 Bluetooth Wireless On Ear Headphone with Mic (Buoyant Black)', 'boAt Rockerz 510 Wireless Bluetooth On Ear Headphones with Mic (Raging Red)', 'pTron Pride Lite HBE (High Bass Earphones) in-Ear Wired Headphones with in-line Mic, 10mm Powerful Driver for Stereo Audio, Noise Cancelling Headset with 1.2m Tangle-Free Cable & 3.5mm Aux (Gray)', 'Best sellerin Over-Ear Headphones', 'boAt Rockerz 550 Bluetooth Wireless Over Ear Headphone with Mic (Black)', 'pTron Tangent Lite Bluetooth 5.0 Wireless Headphones with Hi-Fi Stereo Sound, 8Hrs Playtime, Lightweight Ergonomic Neckband, Sweat-Resistant Magnetic Earbuds, Voice Assistant & Mic - (Black)', 'Sony MDR-ZX110A Wired On Ear Headphone without Mic (White)', 'pTron Tangentbeat Bluetooth 5.0 Wireless Headphones with Deep Bass, Ergonomic Design, IPX4 Sweat/Waterproof Neckband, Magnetic Earbuds, Voice Assistant, Passive Noise Cancelation & Mic (Black)', 'Sony WI-C200 Wireless Headphones with 15 Hrs Battery Life, Quick Charge, Magnetic Earbuds for Tangle Free Carrying, BT ver 5.0,Work from home, In-Ear Bluetooth Headset with mic for phone calls (Black)', 'Boult Audio BassBuds Storm-X in-Ear Wired Earphones with Mic and Full Metal Body for Extra Bass & HD Sound (Red)', 'pTron Studio Over Ear Bluetooth 5.0 Wireless Headphones with Mic, Hi-Fi Sound with Deep Bass, 12Hrs Playback, Ergonomic & Lightweight Wireless Headset, Soft Cushions Earpads, Aux Port - (Black)', 'pTron Bassbuds Duo New Bluetooth 5.1 Wireless Headphones, 32Hrs Total Playtime, Stereo Audio, Touch Control TWS, Dual HD Mic, Type-C Fast Charging, IPX4 Water-Resistant & Voice Assistance (Black)', 'Boult Audio Bass Buds Q2 Over-Ear Wired Lightweight Stereo Headphones, Deep Bass & in-Built Mic, Headset with Comfortable Ear Cushions, Long Cord (Black)', 'Boult Audio ProBass Curve Bluetooth Earphones with 12H Battery Life & Extra Bass, IPX5 Water Resistant Headphones (Black)', 'Buddymate 380 Over-Ear Bluetooth Headphone with Microphone/ Stereo Sound/ Fm & Memory Card Support Compatible with All Smartphone & Devices (Multi Color)', 'pTron Pride Lite HBE (High Bass Earphones) in-Ear Wired Headphones with in-line Mic, 10mm Powerful Driver for Stereo Audi...', 'pTron Tangent Lite Bluetooth 5.0 Wireless Headphones with Hi-Fi Stereo Sound, 8Hrs Playtime, Lightweight Ergonomic Neckban...', 'pTron Tangentbeat Bluetooth 5.0 Wireless Headphones with Deep Bass, Ergonomic Design, IPX4 Sweat/Waterproof Neckband, Magn...', 'Sony WI-C200 Wireless Headphones with 15 Hrs Battery Life, Quick Charge, Magnetic Earbuds for Tangle Free Carrying, BT ver...', 'pTron Studio Over Ear Bluetooth 5.0 Wireless Headphones with Mic, Hi-Fi Sound with Deep Bass, 12Hrs Playback, Ergonomic & ...', 'pTron Bassbuds Duo New Bluetooth 5.1 Wireless Headphones, 32Hrs Total Playtime, Stereo Audio, Touch Control TWS, Dual HD M...', 'Boult Audio Bass Buds Q2 Over-Ear Wired Lightweight Stereo Headphones, Deep Bass & in-Built Mic, Headset with Comfortable ...', 'Buddymate 380 Over-Ear Bluetooth Headphone with Microphone/ Stereo Sound/ Fm & Memory Card Support Compatible with All Sma...']\n"
     ]
    }
   ],
   "source": [
    "scraper = AutoScraper()\n",
    "result = scraper.build(amazon_url, wanted_list)\n",
    "print(result)"
   ]
  },
  {
   "cell_type": "markdown",
   "metadata": {},
   "source": [
    "### Grouping the Data:"
   ]
  },
  {
   "cell_type": "code",
   "execution_count": 21,
   "metadata": {},
   "outputs": [
    {
     "data": {
      "text/plain": [
       "{'rule_ghp5': ['₹1,399',\n",
       "  '₹3,990',\n",
       "  '₹499',\n",
       "  '₹1,500',\n",
       "  '₹699',\n",
       "  '₹2,490',\n",
       "  '₹999',\n",
       "  '₹2,499',\n",
       "  '₹1,499',\n",
       "  '₹3,990',\n",
       "  '₹199',\n",
       "  '₹899',\n",
       "  '₹1,899',\n",
       "  '₹4,999',\n",
       "  '₹599',\n",
       "  '₹1,800',\n",
       "  '₹599',\n",
       "  '₹1,390',\n",
       "  '₹699',\n",
       "  '₹2,499',\n",
       "  '₹1,799',\n",
       "  '₹2,490',\n",
       "  '₹299',\n",
       "  '₹999',\n",
       "  '₹799',\n",
       "  '₹1,999',\n",
       "  '₹799',\n",
       "  '₹2,599',\n",
       "  '₹599',\n",
       "  '₹2,490',\n",
       "  '₹899',\n",
       "  '₹4,499'],\n",
       " 'rule_qop5': ['₹1,399',\n",
       "  '₹3,990',\n",
       "  '₹499',\n",
       "  '₹1,500',\n",
       "  '₹699',\n",
       "  '₹2,490',\n",
       "  '₹999',\n",
       "  '₹2,499',\n",
       "  '₹1,499',\n",
       "  '₹3,990',\n",
       "  '₹199',\n",
       "  '₹899',\n",
       "  '₹1,899',\n",
       "  '₹4,999',\n",
       "  '₹599',\n",
       "  '₹1,800',\n",
       "  '₹599',\n",
       "  '₹1,390',\n",
       "  '₹699',\n",
       "  '₹2,499',\n",
       "  '₹1,799',\n",
       "  '₹2,490',\n",
       "  '₹299',\n",
       "  '₹999',\n",
       "  '₹799',\n",
       "  '₹1,999',\n",
       "  '₹799',\n",
       "  '₹2,599',\n",
       "  '₹599',\n",
       "  '₹2,490',\n",
       "  '₹899',\n",
       "  '₹4,499'],\n",
       " 'rule_vdkh': ['₹1,399',\n",
       "  '₹3,990',\n",
       "  '₹499',\n",
       "  '₹1,500',\n",
       "  '₹699',\n",
       "  '₹2,490',\n",
       "  '₹999',\n",
       "  '₹2,499',\n",
       "  '₹1,499',\n",
       "  '₹3,990',\n",
       "  '₹199',\n",
       "  '₹899',\n",
       "  '₹1,899',\n",
       "  '₹4,999',\n",
       "  '₹599',\n",
       "  '₹1,800',\n",
       "  '₹599',\n",
       "  '₹1,390',\n",
       "  '₹699',\n",
       "  '₹2,499',\n",
       "  '₹1,799',\n",
       "  '₹2,490',\n",
       "  '₹299',\n",
       "  '₹999',\n",
       "  '₹799',\n",
       "  '₹1,999',\n",
       "  '₹799',\n",
       "  '₹2,599',\n",
       "  '₹599',\n",
       "  '₹2,490',\n",
       "  '₹899',\n",
       "  '₹4,499'],\n",
       " 'rule_zszs': ['₹1,399',\n",
       "  '₹3,990',\n",
       "  '₹499',\n",
       "  '₹1,500',\n",
       "  '₹699',\n",
       "  '₹2,490',\n",
       "  '₹999',\n",
       "  '₹2,499',\n",
       "  '₹1,499',\n",
       "  '₹3,990',\n",
       "  '₹199',\n",
       "  '₹899',\n",
       "  '₹1,899',\n",
       "  '₹4,999',\n",
       "  '₹599',\n",
       "  '₹1,800',\n",
       "  '₹599',\n",
       "  '₹1,390',\n",
       "  '₹699',\n",
       "  '₹2,499',\n",
       "  '₹1,799',\n",
       "  '₹2,490',\n",
       "  '₹299',\n",
       "  '₹999',\n",
       "  '₹799',\n",
       "  '₹1,999',\n",
       "  '₹799',\n",
       "  '₹2,599',\n",
       "  '₹599',\n",
       "  '₹2,490',\n",
       "  '₹899',\n",
       "  '₹4,499'],\n",
       " 'rule_4c6j': ['Best sellerin On-Ear Headphones',\n",
       "  'boAt Rockerz 450 Bluetooth Wireless On Ear Headphone with Mic (Luscious Black)',\n",
       "  'Techobucks Bluetooth Wireless Foldable Over -The Ear Headphone, Button Control, inbuilt Microphone and SD Card Slot',\n",
       "  'Amazon\\'s Choicefor \"headphones\"',\n",
       "  'boAt Bassheads 900 Wired On Ear Headphones with Mic (Carbon Black)',\n",
       "  'boAt Rockerz 370 Bluetooth Wireless On Ear Headphone with Mic (Buoyant Black)',\n",
       "  'boAt Rockerz 510 Wireless Bluetooth On Ear Headphones with Mic (Raging Red)',\n",
       "  'pTron Pride Lite HBE (High Bass Earphones) in-Ear Wired Headphones with in-line Mic, 10mm Powerful Driver for Stereo Audio, Noise Cancelling Headset with 1.2m Tangle-Free Cable & 3.5mm Aux (Gray)',\n",
       "  'Best sellerin Over-Ear Headphones',\n",
       "  'boAt Rockerz 550 Bluetooth Wireless Over Ear Headphone with Mic (Black)',\n",
       "  'pTron Tangent Lite Bluetooth 5.0 Wireless Headphones with Hi-Fi Stereo Sound, 8Hrs Playtime, Lightweight Ergonomic Neckband, Sweat-Resistant Magnetic Earbuds, Voice Assistant & Mic - (Black)',\n",
       "  'Sony MDR-ZX110A Wired On Ear Headphone without Mic (White)',\n",
       "  'pTron Tangentbeat Bluetooth 5.0 Wireless Headphones with Deep Bass, Ergonomic Design, IPX4 Sweat/Waterproof Neckband, Magnetic Earbuds, Voice Assistant, Passive Noise Cancelation & Mic (Black)',\n",
       "  'Sony WI-C200 Wireless Headphones with 15 Hrs Battery Life, Quick Charge, Magnetic Earbuds for Tangle Free Carrying, BT ver 5.0,Work from home, In-Ear Bluetooth Headset with mic for phone calls (Black)',\n",
       "  'Boult Audio BassBuds Storm-X in-Ear Wired Earphones with Mic and Full Metal Body for Extra Bass & HD Sound (Red)',\n",
       "  'pTron Studio Over Ear Bluetooth 5.0 Wireless Headphones with Mic, Hi-Fi Sound with Deep Bass, 12Hrs Playback, Ergonomic & Lightweight Wireless Headset, Soft Cushions Earpads, Aux Port - (Black)',\n",
       "  'pTron Bassbuds Duo New Bluetooth 5.1 Wireless Headphones, 32Hrs Total Playtime, Stereo Audio, Touch Control TWS, Dual HD Mic, Type-C Fast Charging, IPX4 Water-Resistant & Voice Assistance (Black)',\n",
       "  'Boult Audio Bass Buds Q2 Over-Ear Wired Lightweight Stereo Headphones, Deep Bass & in-Built Mic, Headset with Comfortable Ear Cushions, Long Cord (Black)',\n",
       "  'Boult Audio ProBass Curve Bluetooth Earphones with 12H Battery Life & Extra Bass, IPX5 Water Resistant Headphones (Black)'],\n",
       " 'rule_xi6x': ['boAt Rockerz 450 Bluetooth Wireless On Ear Headphone with Mic (Luscious Black)',\n",
       "  'Techobucks Bluetooth Wireless Foldable Over -The Ear Headphone, Button Control, inbuilt Microphone and SD Card Slot',\n",
       "  'boAt Bassheads 900 Wired On Ear Headphones with Mic (Carbon Black)',\n",
       "  'boAt Rockerz 370 Bluetooth Wireless On Ear Headphone with Mic (Buoyant Black)',\n",
       "  'boAt Rockerz 510 Wireless Bluetooth On Ear Headphones with Mic (Raging Red)',\n",
       "  'pTron Pride Lite HBE (High Bass Earphones) in-Ear Wired Headphones with in-line Mic, 10mm Powerful Driver for Stereo Audi...',\n",
       "  'boAt Rockerz 550 Bluetooth Wireless Over Ear Headphone with Mic (Black)',\n",
       "  'pTron Tangent Lite Bluetooth 5.0 Wireless Headphones with Hi-Fi Stereo Sound, 8Hrs Playtime, Lightweight Ergonomic Neckban...',\n",
       "  'Sony MDR-ZX110A Wired On Ear Headphone without Mic (White)',\n",
       "  'pTron Tangentbeat Bluetooth 5.0 Wireless Headphones with Deep Bass, Ergonomic Design, IPX4 Sweat/Waterproof Neckband, Magn...',\n",
       "  'Sony WI-C200 Wireless Headphones with 15 Hrs Battery Life, Quick Charge, Magnetic Earbuds for Tangle Free Carrying, BT ver...',\n",
       "  'Boult Audio BassBuds Storm-X in-Ear Wired Earphones with Mic and Full Metal Body for Extra Bass & HD Sound (Red)',\n",
       "  'pTron Studio Over Ear Bluetooth 5.0 Wireless Headphones with Mic, Hi-Fi Sound with Deep Bass, 12Hrs Playback, Ergonomic & ...',\n",
       "  'pTron Bassbuds Duo New Bluetooth 5.1 Wireless Headphones, 32Hrs Total Playtime, Stereo Audio, Touch Control TWS, Dual HD M...',\n",
       "  'Boult Audio Bass Buds Q2 Over-Ear Wired Lightweight Stereo Headphones, Deep Bass & in-Built Mic, Headset with Comfortable ...',\n",
       "  'Boult Audio ProBass Curve Bluetooth Earphones with 12H Battery Life & Extra Bass, IPX5 Water Resistant Headphones (Black)']}"
      ]
     },
     "execution_count": 21,
     "metadata": {},
     "output_type": "execute_result"
    }
   ],
   "source": [
    "scraper.get_result_similar(amazon_url, grouped=True)"
   ]
  },
  {
   "cell_type": "markdown",
   "metadata": {},
   "source": [
    "### Creating Rules for different variety of data:"
   ]
  },
  {
   "cell_type": "code",
   "execution_count": 22,
   "metadata": {},
   "outputs": [],
   "source": [
    "scraper.set_rule_aliases({'rule_4c6j' : 'Title', 'rule_ghp5' : 'Price'})\n",
    "scraper.keep_rules(['rule_4c6j','rule_ghp5'])\n",
    "scraper.save('amazon-search')"
   ]
  },
  {
   "cell_type": "markdown",
   "metadata": {},
   "source": [
    "### Scraping result for different product(IPhone) based on rules defined above:"
   ]
  },
  {
   "cell_type": "code",
   "execution_count": 29,
   "metadata": {},
   "outputs": [],
   "source": [
    "results = scraper.get_result_similar('https://www.amazon.in/s?k=mi+phone+under+15000', group_by_alias=True)"
   ]
  },
  {
   "cell_type": "markdown",
   "metadata": {},
   "source": [
    "### Length of results which contains Title and Price of the product:"
   ]
  },
  {
   "cell_type": "code",
   "execution_count": 30,
   "metadata": {},
   "outputs": [
    {
     "data": {
      "text/plain": [
       "2"
      ]
     },
     "execution_count": 30,
     "metadata": {},
     "output_type": "execute_result"
    }
   ],
   "source": [
    "len(results)"
   ]
  },
  {
   "cell_type": "code",
   "execution_count": 31,
   "metadata": {},
   "outputs": [
    {
     "data": {
      "text/plain": [
       "26"
      ]
     },
     "execution_count": 31,
     "metadata": {},
     "output_type": "execute_result"
    }
   ],
   "source": [
    "len(results['Price'])"
   ]
  },
  {
   "cell_type": "code",
   "execution_count": 32,
   "metadata": {},
   "outputs": [
    {
     "data": {
      "text/plain": [
       "16"
      ]
     },
     "execution_count": 32,
     "metadata": {},
     "output_type": "execute_result"
    }
   ],
   "source": [
    "len(results['Title'])"
   ]
  },
  {
   "cell_type": "markdown",
   "metadata": {},
   "source": [
    "### List of results which contains Title and Price of the product:"
   ]
  },
  {
   "cell_type": "code",
   "execution_count": 33,
   "metadata": {},
   "outputs": [
    {
     "data": {
      "text/plain": [
       "{'Price': ['₹12,299',\n",
       "  '₹14,999',\n",
       "  '₹13,999',\n",
       "  '₹17,499',\n",
       "  '₹12,848',\n",
       "  '₹14,999',\n",
       "  '₹10,999',\n",
       "  '₹17,499',\n",
       "  '₹10,500',\n",
       "  '₹15,999',\n",
       "  '₹13,999',\n",
       "  '₹17,999',\n",
       "  '₹7,899',\n",
       "  '₹11,190',\n",
       "  '₹11,499',\n",
       "  '₹22,999',\n",
       "  '₹13,750',\n",
       "  '₹16,999',\n",
       "  '₹12,199',\n",
       "  '₹13,499',\n",
       "  '₹8,900',\n",
       "  '₹13,999',\n",
       "  '₹7,999',\n",
       "  '₹10,999',\n",
       "  '₹7,919.01',\n",
       "  '₹11,190'],\n",
       " 'Title': ['(Renewed) Xiaomi Mi A3 (Not Just Blue, 4GB RAM, 64GB Storage)',\n",
       "  'MI Xiaomi Mi A2 (Black, 4GB RAM, 64GB Storage)',\n",
       "  'MI Redmi Note 5 Pro (Gold, 4GB RAM, 64GB Storage)',\n",
       "  '(Renewed) Mi A2 (Gold, 64GB)',\n",
       "  'Redmi Note 4 (Gold, 64GB)',\n",
       "  '(Renewed) MI Poco M2 Pro (Two Shades of Black, 6GB RAM, 64GB Storage)',\n",
       "  '(Renewed) Redmi 6 Pro (Black, 3GB RAM, 32GB Storage)',\n",
       "  '(Renewed) Mi Max 2 (Black, 64GB)',\n",
       "  'Mi Note 7 Pro (Neptune Blue, 64GB, 6GB RAM)',\n",
       "  'Redmi 9i Sport (Metallic Blue, 64 GB) (4 GB RAM)',\n",
       "  'REDMI 9i Sport (Coral Green, 64 GB) (4 GB RAM)',\n",
       "  '(Renewed) Redmi 6 Pro (Gold, 4GB RAM, 64GB Storage)',\n",
       "  '(Renewed) Redmi 6 Pro (Red, 4GB RAM, 64GB Storage)',\n",
       "  '(Renewed) Redmi 6 Pro (Red, 3GB RAM, 32GB Storage)',\n",
       "  'REDMI 9i Sport (Carbon Black, 64 GB) (4 GB RAM)',\n",
       "  '(Renewed) Redmi 6 Pro (Blue, 3GB RAM, 32GB Storage)']}"
      ]
     },
     "execution_count": 33,
     "metadata": {},
     "output_type": "execute_result"
    }
   ],
   "source": [
    "results"
   ]
  },
  {
   "cell_type": "markdown",
   "metadata": {},
   "source": [
    "## References\n",
    "\n",
    "Summary of what I did:\n",
    "\n",
    "- AUTOSCRAPED Amazon Website using AutoScraper\n",
    "- Saved FILE as amazon-search\n",
    "\n",
    "References to links I found useful:\n",
    "\n",
    "- https://www.amazon.in/\n",
    "- https://www.youtube.com/\n"
   ]
  }
 ],
 "metadata": {
  "kernelspec": {
   "display_name": "Python 3",
   "language": "python",
   "name": "python3"
  },
  "language_info": {
   "codemirror_mode": {
    "name": "ipython",
    "version": 3
   },
   "file_extension": ".py",
   "mimetype": "text/x-python",
   "name": "python",
   "nbconvert_exporter": "python",
   "pygments_lexer": "ipython3",
   "version": "3.7.3"
  }
 },
 "nbformat": 4,
 "nbformat_minor": 2
}
